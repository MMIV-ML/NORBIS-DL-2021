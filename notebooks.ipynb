{
 "cells": [
  {
   "cell_type": "markdown",
   "id": "010fbcbb-cb57-4578-9a01-ef20d4757da3",
   "metadata": {},
   "source": [
    "# Notebooks from the deep learning module of MMIV-DLN-AI-2021"
   ]
  },
  {
   "cell_type": "markdown",
   "id": "c98f5029-1670-4f5d-9f1a-c62905883c75",
   "metadata": {},
   "source": [
    "Here's a list of all the notebooks from the deep learning module in the [course GitHub repository](https://github.com/MMIV-ML/NORBIS-DL-2021). "
   ]
  },
  {
   "cell_type": "markdown",
   "id": "d6ff855e-8c20-4ef3-bd8c-710bffd36edc",
   "metadata": {},
   "source": [
    "## Part 1: What is deep learning?"
   ]
  },
  {
   "cell_type": "markdown",
   "id": "ab10ebdc-4add-4c8e-91b5-a7cb7002e8cd",
   "metadata": {},
   "source": [
    "* [DL-Example-1-image_classification-MedNIST-using-PyTorch.ipynb](./1-basic_intro/DL-Example-1-image_classification-MedNIST-using-PyTorch.ipynb)\n",
    "* [DL-Example-2-image_classification-MedNIST-MURA-using-fastai.ipynb](./1-basic_intro/DL-Example-2-image_classification-MedNIST-MURA-using-fastai.ipynb)"
   ]
  },
  {
   "cell_type": "markdown",
   "id": "775bb72f-a757-4a0e-bc6b-cc86f0b58882",
   "metadata": {},
   "source": [
    "## Part 2: A tour of practical deep learning"
   ]
  },
  {
   "cell_type": "markdown",
   "id": "04e368aa-0022-4957-8ec9-b2972ba936a0",
   "metadata": {},
   "source": [
    "This is split into multiple sub-parts:"
   ]
  },
  {
   "cell_type": "markdown",
   "id": "99493958-c815-4d28-884f-e32f1b719341",
   "metadata": {},
   "source": [
    "`2-intro_to_practical_dl`"
   ]
  },
  {
   "cell_type": "markdown",
   "id": "4a7257eb-aaff-4135-a960-010499191a5c",
   "metadata": {},
   "source": [
    "These notebooks illustrates a number of important concepts of practical deep learning that was highlighted in the intro lecture to Part 2. "
   ]
  },
  {
   "cell_type": "markdown",
   "id": "c49cc57c-9132-401f-8281-aba56aabe9ea",
   "metadata": {},
   "source": [
    "* [DL-Paperspace-Example-bacteria_classification.ipynb](./2-intro_to_practical_dl/DL-Paperspace-Example-bacteria_classification.ipynb)\n",
    "* [DL-Example-3-representing_data_as_images.ipynb](./2-intro_to_practical_dl/DL-Example-3-representing_data_as_images.ipynb)\n",
    "* [DL-Example-3-representing_data_as_images.ipynb](./2-intro_to_practical_dl/DL-Example-3-representing_data_as_images.ipynb)\n",
    "* [DL-Example-5-image_classification-tumor-grading.ipynb](./2-intro_to_practical_dl/DL-Example-5-image_classification-tumor-grading.ipynb)\n",
    "* [DL-Example-6-segmentation-cell-segmentation-PyTorch-fastai.ipynb](./2-intro_to_practical_dl/DL-Example-7-segmentation-cell-segmentation-PyTorch-fastai.ipynb)\n",
    "* [DL-Example-7-segmentation-brain-tumor-using-MONAI.ipynb](./2-intro_to_practical_dl/DL-Example-6-segmentation-brain-tumor-using-MONAI.ipynb)"
   ]
  },
  {
   "cell_type": "markdown",
   "id": "8d3b6166-94b2-40c3-a0d0-ad011e5f27d6",
   "metadata": {},
   "source": [
    "The folders `3-nlp-dl`, `4-geometric-dl` and `5-tabular-dl` are more sparsely populated. They are meant to help you explore deep learning approaches to natural language processing, geometric neural networks and tabular data, by pointing you in some hopefully useful directions and illustrating how you can stick to Gradient also in this exploration."
   ]
  },
  {
   "cell_type": "markdown",
   "id": "67f7049d-daae-4657-84d4-39c87743d602",
   "metadata": {},
   "source": [
    "* [DL-transformers_huggingface.ipynb](./3-nlp-dl/DL-transformers_huggingface.ipynb)\n",
    "* [DL-torch_geometric.ipynb](./4-geometric-dl/DL-torch_geometric.ipynb)"
   ]
  }
 ],
 "metadata": {
  "kernelspec": {
   "display_name": "Python 3",
   "language": "python",
   "name": "python3"
  },
  "language_info": {
   "codemirror_mode": {
    "name": "ipython",
    "version": 3
   },
   "file_extension": ".py",
   "mimetype": "text/x-python",
   "name": "python",
   "nbconvert_exporter": "python",
   "pygments_lexer": "ipython3",
   "version": "3.8.10"
  },
  "varInspector": {
   "cols": {
    "lenName": 16,
    "lenType": 16,
    "lenVar": 40
   },
   "kernels_config": {
    "python": {
     "delete_cmd_postfix": "",
     "delete_cmd_prefix": "del ",
     "library": "var_list.py",
     "varRefreshCmd": "print(var_dic_list())"
    },
    "r": {
     "delete_cmd_postfix": ") ",
     "delete_cmd_prefix": "rm(",
     "library": "var_list.r",
     "varRefreshCmd": "cat(var_dic_list()) "
    }
   },
   "types_to_exclude": [
    "module",
    "function",
    "builtin_function_or_method",
    "instance",
    "_Feature"
   ],
   "window_display": false
  }
 },
 "nbformat": 4,
 "nbformat_minor": 5
}
