{
 "cells": [
  {
   "cell_type": "markdown",
   "id": "9579e4dd-b2a3-4928-b913-552a972ccbd4",
   "metadata": {},
   "source": [
    "# Introduction"
   ]
  },
  {
   "cell_type": "markdown",
   "id": "550462f0-c14f-41bd-8e0c-05178529382a",
   "metadata": {},
   "source": [
    "This notebook helps you get started exploring Transformers using the HuggingFace library. \n",
    "\n",
    "Have a look at the great documentation over at https://huggingface.co/transformers. "
   ]
  },
  {
   "cell_type": "markdown",
   "id": "19b865c9-4f82-4aae-b596-a7c9ed6e9d0e",
   "metadata": {},
   "source": [
    "# Setup"
   ]
  },
  {
   "cell_type": "code",
   "execution_count": 1,
   "id": "4cd44434-8cdc-4cd1-92d4-c62d3e775371",
   "metadata": {},
   "outputs": [],
   "source": [
    "gradient=False"
   ]
  },
  {
   "cell_type": "code",
   "execution_count": 19,
   "id": "b4359823-c8e1-42be-8bd8-f1c1ccd477c5",
   "metadata": {
    "tags": []
   },
   "outputs": [],
   "source": [
    "%matplotlib inline\n",
    "import numpy as np, pandas as pd, matplotlib.pyplot as plt\n",
    "from glob import glob\n",
    "from pathlib import Path\n",
    "import shutil\n",
    "import os, sys\n",
    "import urllib"
   ]
  },
  {
   "cell_type": "code",
   "execution_count": 3,
   "id": "9a632e78-a0d3-486b-b121-369e4df91be2",
   "metadata": {},
   "outputs": [],
   "source": [
    "if gradient:\n",
    "    !pip install -Uqq fastbook\n",
    "    import fastbook\n",
    "    fastbook.setup_book()\n",
    "    from fastbook import *\n",
    "    !pip install transformers"
   ]
  },
  {
   "cell_type": "code",
   "execution_count": 14,
   "id": "eedcfa59-2b2d-499f-afc8-50c5b39dfcfc",
   "metadata": {},
   "outputs": [],
   "source": [
    "if gradient:\n",
    "    DATA = Path('/storage/huggingface')\n",
    "    DATA.mkdir(exist_ok=True)\n",
    "    TRANSFORMERS_CACHE=DATA/'cache'\n",
    "else:\n",
    "    DATA=Path('/home/alex/data-tmp/huggingface')\n",
    "    DATA.mkdir(exist_ok=True)"
   ]
  },
  {
   "cell_type": "code",
   "execution_count": 28,
   "id": "afed5cd6-89ed-4049-b0e4-844c6885ba3f",
   "metadata": {},
   "outputs": [],
   "source": [
    "from fastai.basics import *"
   ]
  },
  {
   "cell_type": "code",
   "execution_count": 7,
   "id": "b8112181-8b08-45f9-b039-9c8825ca2781",
   "metadata": {},
   "outputs": [
    {
     "name": "stdout",
     "output_type": "stream",
     "text": [
      "[{'label': 'POSITIVE', 'score': 0.9998704791069031}]\n"
     ]
    }
   ],
   "source": [
    "# Verify installation\n",
    "import transformers\n",
    "print(transformers.pipeline('sentiment-analysis')('we love you'))"
   ]
  },
  {
   "cell_type": "markdown",
   "id": "05338810-c4ce-41c9-933e-a0443112e369",
   "metadata": {},
   "source": [
    "# Get a pretrained model and tokenizer"
   ]
  },
  {
   "cell_type": "markdown",
   "id": "0ae2f896-0da5-44f0-8f26-07b6676c1130",
   "metadata": {},
   "source": [
    "We'll use the [PubMedBERT model](https://huggingface.co/microsoft/BiomedNLP-PubMedBERT-base-uncased-abstract) created by Microsoft Research by training a BERT model on 14 million abstracts of PubMed articles. \n",
    "\n",
    "Have a look at the blog post [Domain-specific language model pretraining for biomedical natural language processing](https://www.microsoft.com/en-us/research/blog/domain-specific-language-model-pretraining-for-biomedical-natural-language-processing/) and the accompanying paper. "
   ]
  },
  {
   "cell_type": "code",
   "execution_count": 10,
   "id": "7d100f6f-bd05-4c80-ac6f-058ffbf92b40",
   "metadata": {},
   "outputs": [
    {
     "data": {
      "application/vnd.jupyter.widget-view+json": {
       "model_id": "686b7e7c632d4551b5fc61a5daa08844",
       "version_major": 2,
       "version_minor": 0
      },
      "text/plain": [
       "Downloading:   0%|          | 0.00/337 [00:00<?, ?B/s]"
      ]
     },
     "metadata": {},
     "output_type": "display_data"
    },
    {
     "data": {
      "application/vnd.jupyter.widget-view+json": {
       "model_id": "26abb5dc03cd4840b8046b93fca9d05f",
       "version_major": 2,
       "version_minor": 0
      },
      "text/plain": [
       "Downloading:   0%|          | 0.00/440M [00:00<?, ?B/s]"
      ]
     },
     "metadata": {},
     "output_type": "display_data"
    },
    {
     "name": "stderr",
     "output_type": "stream",
     "text": [
      "Some weights of the model checkpoint at microsoft/BiomedNLP-PubMedBERT-base-uncased-abstract were not used when initializing BertForSequenceClassification: ['cls.predictions.transform.dense.bias', 'cls.seq_relationship.weight', 'cls.predictions.decoder.weight', 'cls.predictions.bias', 'cls.predictions.transform.LayerNorm.weight', 'cls.seq_relationship.bias', 'cls.predictions.transform.LayerNorm.bias', 'cls.predictions.decoder.bias', 'cls.predictions.transform.dense.weight']\n",
      "- This IS expected if you are initializing BertForSequenceClassification from the checkpoint of a model trained on another task or with another architecture (e.g. initializing a BertForSequenceClassification model from a BertForPreTraining model).\n",
      "- This IS NOT expected if you are initializing BertForSequenceClassification from the checkpoint of a model that you expect to be exactly identical (initializing a BertForSequenceClassification model from a BertForSequenceClassification model).\n",
      "Some weights of BertForSequenceClassification were not initialized from the model checkpoint at microsoft/BiomedNLP-PubMedBERT-base-uncased-abstract and are newly initialized: ['classifier.bias', 'classifier.weight']\n",
      "You should probably TRAIN this model on a down-stream task to be able to use it for predictions and inference.\n"
     ]
    }
   ],
   "source": [
    "model_name = 'microsoft/BiomedNLP-PubMedBERT-base-uncased-abstract'\n",
    "model = transformers.AutoModelForSequenceClassification.from_pretrained(model_name)"
   ]
  },
  {
   "cell_type": "code",
   "execution_count": 11,
   "id": "b5c92d87-3b81-477e-9c38-921ad386585b",
   "metadata": {},
   "outputs": [
    {
     "data": {
      "application/vnd.jupyter.widget-view+json": {
       "model_id": "d8c17430fbcf44678228170f50aecb76",
       "version_major": 2,
       "version_minor": 0
      },
      "text/plain": [
       "Downloading:   0%|          | 0.00/225k [00:00<?, ?B/s]"
      ]
     },
     "metadata": {},
     "output_type": "display_data"
    }
   ],
   "source": [
    "tokenizer = transformers.AutoTokenizer.from_pretrained(model_name)"
   ]
  },
  {
   "cell_type": "code",
   "execution_count": 12,
   "id": "c89bade2-7969-4c0f-9e95-daec61b4072f",
   "metadata": {},
   "outputs": [
    {
     "data": {
      "text/plain": [
       "{'input_ids': [2, 2280, 2606, 3275, 1760, 1680, 35, 2397, 7, 16, 12851, 1013, 18, 42, 6343, 4042, 1888, 3568, 42, 5945, 2467, 1682, 3056, 15831, 1701, 35, 2174, 7, 1682, 1805, 7910, 2806, 17, 3], 'token_type_ids': [0, 0, 0, 0, 0, 0, 0, 0, 0, 0, 0, 0, 0, 0, 0, 0, 0, 0, 0, 0, 0, 0, 0, 0, 0, 0, 0, 0, 0, 0, 0, 0, 0, 0], 'attention_mask': [1, 1, 1, 1, 1, 1, 1, 1, 1, 1, 1, 1, 1, 1, 1, 1, 1, 1, 1, 1, 1, 1, 1, 1, 1, 1, 1, 1, 1, 1, 1, 1, 1, 1]}"
      ]
     },
     "execution_count": 12,
     "metadata": {},
     "output_type": "execute_result"
    }
   ],
   "source": [
    "tokenizer(\"\"\"Our findings indicate that the @GENE$-112G/A polymorphism \n",
    "          does not play a substantial role in genetic predisposition to @DISEASE$ in this Japanese population.\"\"\")"
   ]
  },
  {
   "cell_type": "markdown",
   "id": "93488b09-7534-44e7-b0a2-e361873f8474",
   "metadata": {},
   "source": [
    "# Genetic Association Database (GAD)"
   ]
  },
  {
   "cell_type": "markdown",
   "id": "8612610c-feab-4b26-ba89-845ed4ef7c81",
   "metadata": {},
   "source": [
    "Let's try to fine-tune the model to perform a new task. We'll use GAD, which contains gene-disease relations, based on the data set prepeared by BioBERT: https://github.com/dmis-lab/biobert. Have a look at [Becker, Kevin G., et al. \"The genetic association database.\" Nature genetics 36.5 (2004): 431-432.](https://geneticassociationdb.nih.gov/gad.pdf) for details about the database."
   ]
  },
  {
   "cell_type": "markdown",
   "id": "c583d7b7-9e48-4395-830b-90e57db23d66",
   "metadata": {},
   "source": [
    "## Download data"
   ]
  },
  {
   "cell_type": "code",
   "execution_count": 21,
   "id": "2ed78289-63c4-46ed-a68b-d48e0fc0048d",
   "metadata": {},
   "outputs": [],
   "source": [
    "url = 'https://www.dropbox.com/s/s91q5kp6ausq9cj/REdata.zip?dl=1'"
   ]
  },
  {
   "cell_type": "code",
   "execution_count": 23,
   "id": "01034b45-9387-4678-8a65-7b1a1edb33e5",
   "metadata": {},
   "outputs": [],
   "source": [
    "if not os.path.isfile(DATA/'REdata.zip'):\n",
    "    urllib.request.urlretrieve(url, DATA/'REdata.zip')\n",
    "    shutil.unpack_archive(DATA/'REdata.zip', extract_dir=DATA)"
   ]
  },
  {
   "cell_type": "code",
   "execution_count": 24,
   "id": "016f1ce4-acc2-4ac4-8a8e-7c17529e01e5",
   "metadata": {},
   "outputs": [],
   "source": [
    "GAD = DATA/'GAD'"
   ]
  },
  {
   "cell_type": "code",
   "execution_count": 29,
   "id": "09f73589-2189-47fc-9f8b-eed41207fdf0",
   "metadata": {},
   "outputs": [
    {
     "data": {
      "text/plain": [
       "(#10) [Path('/home/alex/data-tmp/huggingface/GAD/6'),Path('/home/alex/data-tmp/huggingface/GAD/5'),Path('/home/alex/data-tmp/huggingface/GAD/9'),Path('/home/alex/data-tmp/huggingface/GAD/2'),Path('/home/alex/data-tmp/huggingface/GAD/10'),Path('/home/alex/data-tmp/huggingface/GAD/4'),Path('/home/alex/data-tmp/huggingface/GAD/3'),Path('/home/alex/data-tmp/huggingface/GAD/7'),Path('/home/alex/data-tmp/huggingface/GAD/8'),Path('/home/alex/data-tmp/huggingface/GAD/1')]"
      ]
     },
     "execution_count": 29,
     "metadata": {},
     "output_type": "execute_result"
    }
   ],
   "source": [
    "GAD.ls()"
   ]
  },
  {
   "cell_type": "markdown",
   "id": "528d6631-c046-40e8-8952-4c7634fabc63",
   "metadata": {},
   "source": [
    "## Explore data"
   ]
  },
  {
   "cell_type": "code",
   "execution_count": 30,
   "id": "ba109a9f-5118-4e3b-a85a-34b8788b4f91",
   "metadata": {},
   "outputs": [],
   "source": [
    "pd.set_option('max.colwidth', 1000)\n",
    "pd.set_option('display.html.use_mathjax', False)"
   ]
  },
  {
   "cell_type": "code",
   "execution_count": 31,
   "id": "e04d280a-8721-421d-9a00-2fd04d6b3fe5",
   "metadata": {},
   "outputs": [],
   "source": [
    "example_fn = GAD/'5'/'train.tsv'\n",
    "df = pd.read_csv(example_fn, sep='\\t', header=None, names=['text', 'interaction'])"
   ]
  },
  {
   "cell_type": "code",
   "execution_count": 32,
   "id": "30816144-0c7b-47bc-b9d4-40e99710be47",
   "metadata": {},
   "outputs": [
    {
     "data": {
      "text/html": [
       "<div>\n",
       "<style scoped>\n",
       "    .dataframe tbody tr th:only-of-type {\n",
       "        vertical-align: middle;\n",
       "    }\n",
       "\n",
       "    .dataframe tbody tr th {\n",
       "        vertical-align: top;\n",
       "    }\n",
       "\n",
       "    .dataframe thead th {\n",
       "        text-align: right;\n",
       "    }\n",
       "</style>\n",
       "<table border=\"1\" class=\"dataframe tex2jax_ignore\">\n",
       "  <thead>\n",
       "    <tr style=\"text-align: right;\">\n",
       "      <th></th>\n",
       "      <th>text</th>\n",
       "      <th>interaction</th>\n",
       "    </tr>\n",
       "  </thead>\n",
       "  <tbody>\n",
       "    <tr>\n",
       "      <th>0</th>\n",
       "      <td>An interaction with hypertension in the association between the @GENE$ G460W polymorphism and @DISEASE$ merits further testing in additional populations.</td>\n",
       "      <td>1</td>\n",
       "    </tr>\n",
       "    <tr>\n",
       "      <th>1</th>\n",
       "      <td>Our study suggests that the five SNPs within @GENE$ gene we studied may not play a major role in the @DISEASE$ susceptibility in the Chinese Han population.</td>\n",
       "      <td>1</td>\n",
       "    </tr>\n",
       "    <tr>\n",
       "      <th>2</th>\n",
       "      <td>Our findings suggest that the @GENE$ polymorphism is not associated with an increased risk of squamous cell @DISEASE$ in Korean women.</td>\n",
       "      <td>1</td>\n",
       "    </tr>\n",
       "    <tr>\n",
       "      <th>3</th>\n",
       "      <td>Our findings indicate that the @GENE$-112G/A polymorphism does not play a substantial role in genetic predisposition to @DISEASE$ in this Japanese population.</td>\n",
       "      <td>0</td>\n",
       "    </tr>\n",
       "    <tr>\n",
       "      <th>4</th>\n",
       "      <td>Although an increasing number of studies report an association between the @GENE$ G1385A variant and @DISEASE$ risk; this variant does not appear to be implicated in the development of breast cancer.</td>\n",
       "      <td>0</td>\n",
       "    </tr>\n",
       "  </tbody>\n",
       "</table>\n",
       "</div>"
      ],
      "text/plain": [
       "                                                                                                                                                                                                      text  \\\n",
       "0                                                An interaction with hypertension in the association between the @GENE$ G460W polymorphism and @DISEASE$ merits further testing in additional populations.   \n",
       "1                                             Our study suggests that the five SNPs within @GENE$ gene we studied may not play a major role in the @DISEASE$ susceptibility in the Chinese Han population.   \n",
       "2                                                                   Our findings suggest that the @GENE$ polymorphism is not associated with an increased risk of squamous cell @DISEASE$ in Korean women.   \n",
       "3                                           Our findings indicate that the @GENE$-112G/A polymorphism does not play a substantial role in genetic predisposition to @DISEASE$ in this Japanese population.   \n",
       "4  Although an increasing number of studies report an association between the @GENE$ G1385A variant and @DISEASE$ risk; this variant does not appear to be implicated in the development of breast cancer.   \n",
       "\n",
       "   interaction  \n",
       "0            1  \n",
       "1            1  \n",
       "2            1  \n",
       "3            0  \n",
       "4            0  "
      ]
     },
     "execution_count": 32,
     "metadata": {},
     "output_type": "execute_result"
    }
   ],
   "source": [
    "df.head()"
   ]
  },
  {
   "cell_type": "code",
   "execution_count": 33,
   "id": "624c4dc5-a418-4dba-b5e1-19cfb8318878",
   "metadata": {},
   "outputs": [
    {
     "data": {
      "text/plain": [
       "1    2521\n",
       "0    2276\n",
       "Name: interaction, dtype: int64"
      ]
     },
     "execution_count": 33,
     "metadata": {},
     "output_type": "execute_result"
    }
   ],
   "source": [
    "df.interaction.value_counts()"
   ]
  },
  {
   "cell_type": "markdown",
   "id": "a5c775c8-a8ca-4959-879a-773e55d8dd23",
   "metadata": {},
   "source": [
    "## Prepare data"
   ]
  },
  {
   "cell_type": "code",
   "execution_count": 34,
   "id": "26939197-a129-4064-bdb4-c3f61283c07d",
   "metadata": {},
   "outputs": [],
   "source": [
    "def read_gad_split(df):\n",
    "    texts = []\n",
    "    labels = []\n",
    "    for row in df.iterrows():\n",
    "        texts.append(row[1].text)\n",
    "        labels.append(row[1].interaction)\n",
    "    return texts, labels"
   ]
  },
  {
   "cell_type": "code",
   "execution_count": 35,
   "id": "f31b4c2a-370a-4213-a605-09b10d2938b5",
   "metadata": {},
   "outputs": [],
   "source": [
    "train_texts, train_labels = read_gad_split(df)"
   ]
  },
  {
   "cell_type": "code",
   "execution_count": 36,
   "id": "5bb52c15-20e9-4169-9345-70110062dd7b",
   "metadata": {},
   "outputs": [
    {
     "data": {
      "text/plain": [
       "['An interaction with hypertension in the association between the @GENE$ G460W polymorphism and @DISEASE$ merits further testing in additional populations.',\n",
       " 'Our study suggests that the five SNPs within @GENE$ gene we studied may not play a major role in the @DISEASE$ susceptibility in the Chinese Han population.',\n",
       " 'Our findings suggest that the @GENE$ polymorphism is not associated with an increased risk of squamous cell @DISEASE$ in Korean women.',\n",
       " 'Our findings indicate that the @GENE$-112G/A polymorphism does not play a substantial role in genetic predisposition to @DISEASE$ in this Japanese population.',\n",
       " 'Although an increasing number of studies report an association between the @GENE$ G1385A variant and @DISEASE$ risk; this variant does not appear to be implicated in the development of breast cancer.']"
      ]
     },
     "execution_count": 36,
     "metadata": {},
     "output_type": "execute_result"
    }
   ],
   "source": [
    "train_texts[:5]"
   ]
  },
  {
   "cell_type": "code",
   "execution_count": 37,
   "id": "abef560a-bd3a-4567-9022-e6e0172304ce",
   "metadata": {},
   "outputs": [
    {
     "data": {
      "text/plain": [
       "[1, 1, 1, 0, 0]"
      ]
     },
     "execution_count": 37,
     "metadata": {},
     "output_type": "execute_result"
    }
   ],
   "source": [
    "train_labels[:5]"
   ]
  },
  {
   "cell_type": "code",
   "execution_count": 38,
   "id": "8bfbda74-03be-4e0b-9a80-9c84e8eff54c",
   "metadata": {},
   "outputs": [],
   "source": [
    "from sklearn.model_selection import train_test_split\n",
    "train_texts, val_texts, train_labels, val_labels = train_test_split(train_texts, train_labels, test_size=.2)"
   ]
  },
  {
   "cell_type": "code",
   "execution_count": 39,
   "id": "c9a637e9-58a6-4a4d-84e8-470601843b5f",
   "metadata": {},
   "outputs": [],
   "source": [
    "train_encodings = tokenizer(train_texts, padding=True)"
   ]
  },
  {
   "cell_type": "code",
   "execution_count": 40,
   "id": "ed8e06ef-16b6-4129-bf0a-f6a3bdda5a08",
   "metadata": {},
   "outputs": [],
   "source": [
    "val_encodings = tokenizer(val_texts, padding=True)"
   ]
  },
  {
   "cell_type": "markdown",
   "id": "899ceabb-4eb0-49d2-a333-1adf0dc80c30",
   "metadata": {},
   "source": [
    "### Create dataset"
   ]
  },
  {
   "cell_type": "code",
   "execution_count": 41,
   "id": "8e6769db-66dc-4297-a4c2-5ba9063f079d",
   "metadata": {},
   "outputs": [],
   "source": [
    "import torch"
   ]
  },
  {
   "cell_type": "code",
   "execution_count": 42,
   "id": "fc87e8ee-0476-47ee-b9ac-af51f9b7b62f",
   "metadata": {},
   "outputs": [],
   "source": [
    "class GADDataset(torch.utils.data.Dataset):\n",
    "    def __init__(self, encodings, labels):\n",
    "        self.encodings = encodings\n",
    "        self.labels = labels\n",
    "        \n",
    "    def __getitem__(self, idx):\n",
    "        item = {key: torch.tensor(val[idx]) for key, val in self.encodings.items()}\n",
    "        item['labels'] = torch.tensor(self.labels[idx])\n",
    "        return item\n",
    "    \n",
    "    def __len__(self):\n",
    "        return len(self.labels)\n",
    "    "
   ]
  },
  {
   "cell_type": "code",
   "execution_count": 43,
   "id": "9cc57278-6aea-4974-8260-e52ea9b2e8df",
   "metadata": {},
   "outputs": [],
   "source": [
    "train_dataset = GADDataset(train_encodings, train_labels)\n",
    "val_dataset = GADDataset(val_encodings, val_labels)"
   ]
  },
  {
   "cell_type": "markdown",
   "id": "d25b18ba-c54e-4ba4-ae40-c374302cec96",
   "metadata": {},
   "source": [
    "## Use the pre-trained transformer model"
   ]
  },
  {
   "cell_type": "markdown",
   "id": "8317ec07-c78b-4bcd-89e1-d42d2cfccdd3",
   "metadata": {},
   "source": [
    "We'll fine-tune the pre-trained model to classify whether the text indicates an interaction or not. "
   ]
  },
  {
   "cell_type": "code",
   "execution_count": 45,
   "id": "fe7b359d-b628-4086-a2d1-9cd6dff0ce6e",
   "metadata": {},
   "outputs": [],
   "source": [
    "MODELS_GDB = DATA/'GAD'/'models'\n",
    "MODELS_GDB.mkdir(exist_ok=True, parents=True)"
   ]
  },
  {
   "cell_type": "code",
   "execution_count": 46,
   "id": "92e29164-c7e3-45c9-8ffb-51d3c178693d",
   "metadata": {},
   "outputs": [],
   "source": [
    "from transformers import Trainer, TrainingArguments"
   ]
  },
  {
   "cell_type": "code",
   "execution_count": 47,
   "id": "1b3a3ec8-3bc4-4ed6-80f1-32d08b2feef6",
   "metadata": {},
   "outputs": [],
   "source": [
    "training_args = TrainingArguments(\n",
    "    output_dir=str(MODELS_GDB/'results'),\n",
    "    num_train_epochs=1,\n",
    "    per_device_train_batch_size=16,\n",
    "    per_device_eval_batch_size=64,\n",
    "    warmup_steps=500,\n",
    "    weight_decay=0.01,\n",
    "    logging_dir=str(MODELS_GDB/'logs'),\n",
    "    logging_steps=10\n",
    "    )"
   ]
  },
  {
   "cell_type": "code",
   "execution_count": 48,
   "id": "e1ad852e-44ee-434f-b21d-76edd54f7d36",
   "metadata": {},
   "outputs": [],
   "source": [
    "from sklearn.metrics import accuracy_score, precision_recall_fscore_support\n",
    "\n",
    "def compute_metrics(pred):\n",
    "    labels = pred.label_ids\n",
    "    preds = pred.predictions.argmax(-1)\n",
    "    precision, recall, f1, _ = precision_recall_fscore_support(labels, preds, average='binary')\n",
    "    acc = accuracy_score(labels, preds)\n",
    "    return {\n",
    "        'accuracy': acc,\n",
    "        'f1': f1,\n",
    "        'precision': precision,\n",
    "        'recall': recall\n",
    "    }"
   ]
  },
  {
   "cell_type": "code",
   "execution_count": 49,
   "id": "4fda1304-01ee-4351-94df-251f8b8543bf",
   "metadata": {},
   "outputs": [],
   "source": [
    "trainer = Trainer(\n",
    "    model=model,                         \n",
    "    args=training_args,                  \n",
    "    train_dataset=train_dataset,         \n",
    "    eval_dataset=val_dataset,\n",
    "    compute_metrics=compute_metrics\n",
    ")"
   ]
  },
  {
   "cell_type": "code",
   "execution_count": 50,
   "id": "5233b73b-b241-471f-a9c1-d07628b4c418",
   "metadata": {},
   "outputs": [
    {
     "name": "stderr",
     "output_type": "stream",
     "text": [
      "/home/alex/anaconda3/envs/fastai/lib/python3.8/site-packages/torch/nn/parallel/data_parallel.py:30: UserWarning: \n",
      "    There is an imbalance between your GPUs. You may want to exclude GPU 1 which\n",
      "    has less than 75% of the memory or cores of GPU 0. You can do so by setting\n",
      "    the device_ids argument to DataParallel, or by setting the CUDA_VISIBLE_DEVICES\n",
      "    environment variable.\n",
      "  warnings.warn(imbalance_warn.format(device_ids[min_pos], device_ids[max_pos]))\n",
      "/home/alex/anaconda3/envs/fastai/lib/python3.8/site-packages/torch/nn/parallel/_functions.py:65: UserWarning: Was asked to gather along dimension 0, but all input tensors were scalars; will instead unsqueeze and return a vector.\n",
      "  warnings.warn('Was asked to gather along dimension 0, but all '\n"
     ]
    },
    {
     "data": {
      "text/html": [
       "\n",
       "    <div>\n",
       "      \n",
       "      <progress value='120' max='120' style='width:300px; height:20px; vertical-align: middle;'></progress>\n",
       "      [120/120 00:49, Epoch 1/1]\n",
       "    </div>\n",
       "    <table border=\"1\" class=\"dataframe\">\n",
       "  <thead>\n",
       "    <tr style=\"text-align: left;\">\n",
       "      <th>Step</th>\n",
       "      <th>Training Loss</th>\n",
       "    </tr>\n",
       "  </thead>\n",
       "  <tbody>\n",
       "    <tr>\n",
       "      <td>10</td>\n",
       "      <td>0.681900</td>\n",
       "    </tr>\n",
       "    <tr>\n",
       "      <td>20</td>\n",
       "      <td>0.694100</td>\n",
       "    </tr>\n",
       "    <tr>\n",
       "      <td>30</td>\n",
       "      <td>0.692900</td>\n",
       "    </tr>\n",
       "    <tr>\n",
       "      <td>40</td>\n",
       "      <td>0.696200</td>\n",
       "    </tr>\n",
       "    <tr>\n",
       "      <td>50</td>\n",
       "      <td>0.686600</td>\n",
       "    </tr>\n",
       "    <tr>\n",
       "      <td>60</td>\n",
       "      <td>0.659300</td>\n",
       "    </tr>\n",
       "    <tr>\n",
       "      <td>70</td>\n",
       "      <td>0.655300</td>\n",
       "    </tr>\n",
       "    <tr>\n",
       "      <td>80</td>\n",
       "      <td>0.631700</td>\n",
       "    </tr>\n",
       "    <tr>\n",
       "      <td>90</td>\n",
       "      <td>0.612000</td>\n",
       "    </tr>\n",
       "    <tr>\n",
       "      <td>100</td>\n",
       "      <td>0.604600</td>\n",
       "    </tr>\n",
       "    <tr>\n",
       "      <td>110</td>\n",
       "      <td>0.587100</td>\n",
       "    </tr>\n",
       "    <tr>\n",
       "      <td>120</td>\n",
       "      <td>0.517900</td>\n",
       "    </tr>\n",
       "  </tbody>\n",
       "</table><p>"
      ],
      "text/plain": [
       "<IPython.core.display.HTML object>"
      ]
     },
     "metadata": {},
     "output_type": "display_data"
    },
    {
     "data": {
      "text/plain": [
       "TrainOutput(global_step=120, training_loss=0.643294115861257, metrics={'train_runtime': 51.4329, 'train_samples_per_second': 2.333, 'total_flos': 289861586768340.0, 'epoch': 1.0})"
      ]
     },
     "execution_count": 50,
     "metadata": {},
     "output_type": "execute_result"
    }
   ],
   "source": [
    "trainer.train()"
   ]
  },
  {
   "cell_type": "code",
   "execution_count": 51,
   "id": "0bec5300-a9aa-4a8a-ab8e-e9377e48dbd1",
   "metadata": {},
   "outputs": [
    {
     "data": {
      "text/html": [
       "\n",
       "    <div>\n",
       "      \n",
       "      <progress value='8' max='8' style='width:300px; height:20px; vertical-align: middle;'></progress>\n",
       "      [8/8 00:02]\n",
       "    </div>\n",
       "    "
      ],
      "text/plain": [
       "<IPython.core.display.HTML object>"
      ]
     },
     "metadata": {},
     "output_type": "display_data"
    }
   ],
   "source": [
    "pred = trainer.evaluate(eval_dataset=val_dataset)"
   ]
  },
  {
   "cell_type": "code",
   "execution_count": 52,
   "id": "5896ae6c-9e32-41e1-a262-8d7dedf3dfd6",
   "metadata": {},
   "outputs": [
    {
     "data": {
      "text/plain": [
       "{'eval_loss': 0.5877533555030823,\n",
       " 'eval_accuracy': 0.7114583333333333,\n",
       " 'eval_f1': 0.7851047323506594,\n",
       " 'eval_precision': 0.677376171352075,\n",
       " 'eval_recall': 0.933579335793358,\n",
       " 'eval_runtime': 2.4287,\n",
       " 'eval_samples_per_second': 395.272,\n",
       " 'epoch': 1.0}"
      ]
     },
     "execution_count": 52,
     "metadata": {},
     "output_type": "execute_result"
    }
   ],
   "source": [
    "pred"
   ]
  },
  {
   "cell_type": "markdown",
   "id": "fea7649a-8131-454c-bcc0-49e221c9a7bb",
   "metadata": {},
   "source": [
    "# Possible next steps"
   ]
  },
  {
   "cell_type": "markdown",
   "id": "f17d3b1e-596e-44cc-abd1-1939a4c4ed52",
   "metadata": {},
   "source": [
    "You can consider trying out the model on other tasks from the benchmark data sets set up by the authors of PubMedBERT [BLURB: Biomedical Language Understanding and Reasoning Benchmark](https://microsoft.github.io/BLURB/) (or any other similar task you may think of)."
   ]
  }
 ],
 "metadata": {
  "kernelspec": {
   "display_name": "Python [conda env:fastai]",
   "language": "python",
   "name": "conda-env-fastai-py"
  },
  "language_info": {
   "codemirror_mode": {
    "name": "ipython",
    "version": 3
   },
   "file_extension": ".py",
   "mimetype": "text/x-python",
   "name": "python",
   "nbconvert_exporter": "python",
   "pygments_lexer": "ipython3",
   "version": "3.8.10"
  }
 },
 "nbformat": 4,
 "nbformat_minor": 5
}
